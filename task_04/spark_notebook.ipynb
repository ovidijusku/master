{
 "cells": [
  {
   "cell_type": "code",
   "execution_count": 1,
   "id": "20ec3c40-2a5f-4ccb-8720-86a150353491",
   "metadata": {
    "tags": []
   },
   "outputs": [],
   "source": [
    "%%capture\n",
    "%pip install plotly"
   ]
  },
  {
   "cell_type": "code",
   "execution_count": 12,
   "id": "3c61849b-5692-4005-be5f-22aff58c6aae",
   "metadata": {
    "tags": []
   },
   "outputs": [],
   "source": [
    "import plotly.express as px\n",
    "from pyspark.sql import functions as F\n",
    "from pyspark.sql import SparkSession\n",
    "from pyspark.sql.window import Window"
   ]
  },
  {
   "cell_type": "code",
   "execution_count": 3,
   "id": "36d38300-5fe9-4179-b5d9-106a55a7db41",
   "metadata": {
    "tags": []
   },
   "outputs": [],
   "source": [
    "# Create SparkSession\n",
    "spark = SparkSession.builder.getOrCreate()\n",
    "\n",
    "# Read CSV into DataFrame\n",
    "df = spark.read.csv('data/aisdk-2023-05-08.csv', header=True)\n",
    "\n",
    "# Filter rows based on conditions\n",
    "filtered_df = df.filter((F.col('SOG') == 0) &\n",
    "                        (F.col('Latitude') > 45) & (F.col('Latitude') < 65) &\n",
    "                        (F.col('Longitude') > -2) & (F.col('Longitude') < 22))\n",
    "df.unpersist()\n",
    "filtered_df = filtered_df.select('# Timestamp', 'MMSI', 'Latitude', 'Longitude')\n",
    "filtered_df = filtered_df.withColumnRenamed('# Timestamp', 'timestamp')\n",
    "filtered_df = filtered_df.withColumn('timestamp', F.to_timestamp(F.col('timestamp'),\n",
    "                                                                 'dd/MM/yyyy HH:mm:ss'))\n",
    "filtered_df = filtered_df.withColumn('lat', F.round(F.col('Latitude'), 2))\n",
    "filtered_df = filtered_df.withColumn('long', F.round(F.col('Longitude'), 2))\n",
    "\n",
    "filtered_df = filtered_df.orderBy('timestamp')\n",
    "\n",
    "filtered_df = filtered_df.select('timestamp', 'MMSI', 'lat', 'long')"
   ]
  },
  {
   "cell_type": "code",
   "execution_count": 4,
   "id": "0d136393",
   "metadata": {
    "tags": []
   },
   "outputs": [],
   "source": [
    "time_window_minutes = 10\n",
    "required_ship_count = 5\n",
    "\n",
    "# Create a window specification based on timestamp column\n",
    "w = Window.partitionBy(F.floor((F.unix_timestamp(F.col(\"timestamp\")) / (time_window_minutes * 60)).cast(\"long\")))\n",
    "\n",
    "# Assign a window id\n",
    "filtered_df = filtered_df.withColumn('window_id', \n",
    "                                     F.floor((F.unix_timestamp(F.col(\"timestamp\")) /\n",
    "                                              (time_window_minutes * 60)).cast(\"long\")))\n",
    "\n",
    "# Drop duplicates and group by lat, long, window_id\n",
    "window_df = filtered_df.dropDuplicates(subset=['lat', 'long', 'MMSI', 'window_id'])\n",
    "window_df = window_df.groupBy(['lat', 'long', 'window_id']).count().withColumnRenamed(\"count\", \"total_count\")\n",
    "\n",
    "# Filter based on required_ship_count\n",
    "window_df = window_df.filter(F.col(\"total_count\") >= required_ship_count)\n",
    "window_df = window_df.drop('window_id')\n",
    "\n",
    "# Combine counts\n",
    "result_df = window_df.groupBy(\"lat\", \"long\").agg(F.sum(\"total_count\").alias(\"count\"))"
   ]
  },
  {
   "cell_type": "code",
   "execution_count": 19,
   "id": "c712dc3c-f2df-4e8b-9d87-8d32f69ea29d",
   "metadata": {
    "tags": []
   },
   "outputs": [
    {
     "data": {
      "text/html": [
       "<iframe\n",
       "    scrolling=\"no\"\n",
       "    width=\"100%\"\n",
       "    height=\"520\"\n",
       "    src=\"iframe_figures/figure_19.html\"\n",
       "    frameborder=\"0\"\n",
       "    allowfullscreen\n",
       "></iframe>\n"
      ]
     },
     "metadata": {},
     "output_type": "display_data"
    }
   ],
   "source": [
    "final_df = result_df.toPandas()\n",
    "fig = px.scatter_mapbox(final_df, lat=\"lat\", lon=\"long\", size='count',\n",
    "                        color_discrete_sequence=[\"fuchsia\"], zoom=5, height=500)\n",
    "fig.update_layout(mapbox_style=\"open-street-map\")\n",
    "fig.update_layout(margin={\"r\":0,\"t\":0,\"l\":0,\"b\":0})\n",
    "fig.show(renderer='iframe')"
   ]
  },
  {
   "cell_type": "code",
   "execution_count": null,
   "id": "8ad52b4b-c267-4690-ab9d-402ba94be118",
   "metadata": {},
   "outputs": [],
   "source": []
  }
 ],
 "metadata": {
  "kernelspec": {
   "display_name": "Python 3 (ipykernel)",
   "language": "python",
   "name": "python3"
  },
  "language_info": {
   "codemirror_mode": {
    "name": "ipython",
    "version": 3
   },
   "file_extension": ".py",
   "mimetype": "text/x-python",
   "name": "python",
   "nbconvert_exporter": "python",
   "pygments_lexer": "ipython3",
   "version": "3.10.11"
  }
 },
 "nbformat": 4,
 "nbformat_minor": 5
}
