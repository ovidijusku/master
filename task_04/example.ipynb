{
 "cells": [
  {
   "cell_type": "code",
   "execution_count": 2,
   "id": "c68b7a7f-8692-41f0-a650-4152dcf46e95",
   "metadata": {
    "tags": []
   },
   "outputs": [
    {
     "name": "stdout",
     "output_type": "stream",
     "text": [
      "Number of rows: 3\n"
     ]
    }
   ],
   "source": [
    "from pyspark.sql import SparkSession\n",
    "\n",
    "# Create a SparkSession\n",
    "spark = SparkSession.builder.getOrCreate()\n",
    "\n",
    "# Load the CSV file\n",
    "df = spark.read.csv('/home/jovyan/work/data/test.csv', header=True, inferSchema=True)\n",
    "\n",
    "# Perform manipulations (example: count rows)\n",
    "row_count = df.count()\n",
    "print('Number of rows:', row_count)\n",
    "\n",
    "# Perform additional manipulations as needed\n",
    "\n",
    "# Stop the SparkSession\n",
    "spark.stop()"
   ]
  },
  {
   "cell_type": "code",
   "execution_count": null,
   "id": "36d38300-5fe9-4179-b5d9-106a55a7db41",
   "metadata": {},
   "outputs": [],
   "source": []
  }
 ],
 "metadata": {
  "kernelspec": {
   "display_name": "Python 3 (ipykernel)",
   "language": "python",
   "name": "python3"
  },
  "language_info": {
   "codemirror_mode": {
    "name": "ipython",
    "version": 3
   },
   "file_extension": ".py",
   "mimetype": "text/x-python",
   "name": "python",
   "nbconvert_exporter": "python",
   "pygments_lexer": "ipython3",
   "version": "3.10.11"
  }
 },
 "nbformat": 4,
 "nbformat_minor": 5
}
